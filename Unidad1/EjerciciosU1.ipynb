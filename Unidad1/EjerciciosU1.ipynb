{
  "nbformat": 4,
  "nbformat_minor": 0,
  "metadata": {
    "colab": {
      "provenance": []
    },
    "kernelspec": {
      "name": "python3",
      "display_name": "Python 3"
    },
    "language_info": {
      "name": "python"
    }
  },
  "cells": [
    {
      "cell_type": "markdown",
      "source": [
        "Ejercicio 0:\n",
        "\n",
        "En el campus se encuentran dos archivos en la carpeta \"Ejemplos codificacion\". Investíguelos con las herramientas vistas en clase puede usar también la herramienta hewdump para verlos por dentro.\n",
        "\n",
        "Pruebe intencionalmente abrir el archivo con la codificación equivocada(abra el UTF-8 como 8859-15) y compare las salidas."
      ],
      "metadata": {
        "id": "ms-PWAx5U4T7"
      }
    },
    {
      "cell_type": "code",
      "source": [
        "#Abrir archivo con codificacion UTF-8:\n",
        "with open('/content/EJEMPLO DE UTF-8.txt', 'r', encoding='utf-8') as archivo:\n",
        "    contenido = archivo.read()\n",
        "\n",
        "print(contenido)\n",
        "\n",
        "#Abrir archivo con codificacion 8859-15:\n",
        "with open('/content/EJEMPLO DE 8859-15.txt', 'r', encoding='iso-8859-1') as archivo:\n",
        "    contenido = archivo.read()\n",
        "\n",
        "print(contenido)\n",
        "\n",
        "#Abrir archivo con codificacion equivocada:\n",
        "\"\"\"\n",
        "Salta un error\n",
        "\n",
        "with open('/content/EJEMPLO DE 8859-15.txt', 'r', encoding='utf-8') as archivo:\n",
        "    contenido = archivo.read()\n",
        "\n",
        "print(contenido)\n",
        "\"\"\""
      ],
      "metadata": {
        "id": "N5NxblcTVuzL"
      },
      "execution_count": null,
      "outputs": []
    },
    {
      "cell_type": "markdown",
      "source": [
        "Ejercicio 1:\n",
        "\n",
        "Con los archivos pedidios en diferentes formatos(pdf, jpg, entre otros) la clase anterior, extraiga la información que considere relevante de los mismos utilizando las librerías desarrolladas en clase:\n",
        "\n",
        "I- Obtenga el texto de un libro escaneado en pdf(un pdf que no contenga el texto codificado como tal, es decir, que sea necesario usar ocr). Pruebe usando pytesseract en ingles(por defecto) y luego configurandolo en español.\n",
        "\n",
        "II- Obtenga el texto de una imagen(png, bmp).\n",
        "\n",
        "III- Obtenga el texto de un archivo word.\n",
        "\n",
        "IV- Obtenga el texto de un archivo de audio.\n",
        "\n",
        "Si no tienes suficientes recursos considere usar las páginas archive.org, epdlp.com, ciudadseva.com para conseguir los archivos.\n",
        "\n",
        "Opcional: Para las imágenes de facturas y recibos, extraiga información de los mismos con el objetivo de identificar los movimientos de gasto para el/los periodo/s a que se correspondan, y genere una salida en pantalla con un resumen para el total de movimientos."
      ],
      "metadata": {
        "id": "zmmiXcvuX1fC"
      }
    },
    {
      "cell_type": "code",
      "source": [
        "#Librerias para transformar pdf en imagenes.\n",
        "!pip install pdf2image\n",
        "!apt-get install -y poppler-utils"
      ],
      "metadata": {
        "id": "xNuCtUPl5KFf"
      },
      "execution_count": null,
      "outputs": []
    },
    {
      "cell_type": "code",
      "source": [
        "#Libreria pytesseract:\n",
        "!apt install tesseract-ocr\n",
        "!pip install pytesseract"
      ],
      "metadata": {
        "id": "0GSUN9v_5twX"
      },
      "execution_count": null,
      "outputs": []
    },
    {
      "cell_type": "code",
      "source": [
        "#Ejercicio I:\n",
        "\n",
        "#Primero convierto algunas páginas del archivo pdf en imagenes.\n",
        "from pdf2image import convert_from_path\n",
        "\n",
        "imagenes = convert_from_path('/content/Métodos Estadísticos 1 - Ruggieri.pdf')\n",
        "\n",
        "for i, imagen in enumerate(imagenes):\n",
        "    imagen.save('pagina{}.png'.format(i), 'PNG')\n",
        "    if i == 2:\n",
        "        break"
      ],
      "metadata": {
        "id": "jtSfYYlmX1D7"
      },
      "execution_count": 5,
      "outputs": []
    },
    {
      "cell_type": "code",
      "source": [
        "#Luego convierto la imagen en texto.\n",
        "import pytesseract\n",
        "from PIL import Image\n",
        "\n",
        "texto_ingles = \"\"\n",
        "texto_espanol = \"\"\n",
        "\n",
        "#Primero pruebo con pytessecart en ingles.\n",
        "for i in [0, 1, 2]:\n",
        "    imagen_path = '/content/pagina{}.png'.format(i)\n",
        "    imagen = Image.open(imagen_path)\n",
        "\n",
        "    texto_ingles += pytesseract.image_to_string(imagen, lang='eng')\n",
        "    texto_espanol += pytesseract.image_to_string(imagen, lang='eng+esp')\n",
        "\n",
        "print(\"Con pytesseract en ingles:\")\n",
        "print(texto_ingles)\n",
        "print(\"Con pytesseract en ingles+español:\")\n",
        "print(texto_espanol)"
      ],
      "metadata": {
        "id": "PLp2whnc7HTg"
      },
      "execution_count": null,
      "outputs": []
    },
    {
      "cell_type": "code",
      "source": [
        "#Ejercicio II:\n"
      ],
      "metadata": {
        "id": "JNRxdQq--rH9"
      },
      "execution_count": null,
      "outputs": []
    },
    {
      "cell_type": "markdown",
      "source": [
        "Ejercicio 2:\n",
        "\n",
        "El Ministerio de Turismo y Deportes de la Nación permite explorar\n",
        "tableros de información en línea tableros.yvera.tur.ar. Explore la página y utilizando\n",
        "una librería de web scraping extraiga los valores del tablero de indicadores de\n",
        "Objetivos de Desarrollo Sostenible en una tabla y el texto limpio de la metodología\n",
        "de los mismos."
      ],
      "metadata": {
        "id": "jnWBb5HRsCFA"
      }
    },
    {
      "cell_type": "code",
      "source": [
        "#Instalación librerias:\n",
        "!pip install beautifulsoup4"
      ],
      "metadata": {
        "colab": {
          "base_uri": "https://localhost:8080/"
        },
        "id": "SNN43GXmiqqE",
        "outputId": "2ee121cd-e55e-452c-eb7e-325271009082"
      },
      "execution_count": null,
      "outputs": [
        {
          "output_type": "stream",
          "name": "stdout",
          "text": [
            "Requirement already satisfied: beautifulsoup4 in /usr/local/lib/python3.10/dist-packages (4.12.3)\n",
            "Requirement already satisfied: soupsieve>1.2 in /usr/local/lib/python3.10/dist-packages (from beautifulsoup4) (2.5)\n"
          ]
        }
      ]
    },
    {
      "cell_type": "code",
      "source": [
        "import requests\n",
        "from bs4 import BeautifulSoup\n",
        "\n",
        "url = \"https://tableros.yvera.tur.ar/tablero_ODS/\"\n",
        "\n",
        "response = requests.get(url, verify=False)\n",
        "soup = BeautifulSoup(response.text, 'html.parser')\n",
        "\n",
        "div_inner = soup.find_all('div', class_='inner')\n",
        "uls = soup.find_all('ul')\n",
        "\n",
        "contenido = []\n",
        "\n",
        "for div in div_inner:\n",
        "    parrafos = div.find_all('p')\n",
        "    for p in parrafos:\n",
        "        contenido.append(p.text)\n",
        "\n",
        "print(contenido)\n",
        "\n",
        "for ul in uls:\n",
        "    descripciones = ul.find_all('p')\n",
        "    for d in descripciones:\n",
        "        print(d.text)"
      ],
      "metadata": {
        "id": "w9ysRuNVi71n"
      },
      "execution_count": null,
      "outputs": []
    },
    {
      "cell_type": "markdown",
      "source": [
        "Ejercicio 7:\n",
        "\n",
        "En la siguiente carpeta,\n",
        "https://drive.google.com/drive/folders/1iCiOQ8P8CHFFLKiWc2li9-x3Ud-Tl0po?usp=drive_link\n",
        "podrá descargar recursos que presentan algunos desafios para la extracción de\n",
        "texto. Practique los códigos y librerías propuestos en la Unidad 1 y compare los\n",
        "resultados con sus compañer@s."
      ],
      "metadata": {
        "id": "9X7VAhDGznTn"
      }
    },
    {
      "cell_type": "markdown",
      "source": [
        "1 - Extracción del archivo: PROYECTO DE LEY TURISMO SOCIAL 2004.pdf"
      ],
      "metadata": {
        "id": "WuPTdwWGPE_e"
      }
    },
    {
      "cell_type": "code",
      "source": [
        "!pip install PyPDF2"
      ],
      "metadata": {
        "id": "qNEvfB-HNwou"
      },
      "execution_count": null,
      "outputs": []
    },
    {
      "cell_type": "code",
      "source": [
        "import PyPDF2\n",
        "\n",
        "with open('/content/PROYECTO DE LEY TURISMO SOCIAL 2004.pdf', 'rb'):\n",
        "    lector = PyPDF2.PdfReader('PROYECTO DE LEY TURISMO SOCIAL 2004.pdf')\n",
        "\n",
        "texto = \"\"\n",
        "\n",
        "for i in range(len(lector.pages)):\n",
        "    pagina = lector.pages[i]\n",
        "\n",
        "    texto += pagina.extract_text()\n",
        "\n",
        "print(texto)"
      ],
      "metadata": {
        "id": "Jms7gSyB4LrI"
      },
      "execution_count": null,
      "outputs": []
    },
    {
      "cell_type": "markdown",
      "source": [
        "2 - Extraccion del archivo: covers.txt"
      ],
      "metadata": {
        "id": "_QYrr5OYPMB8"
      }
    },
    {
      "cell_type": "code",
      "source": [
        "with open('/content/covers.txt', 'r') as archivo:\n",
        "    contenido = archivo.read()\n",
        "\n",
        "print(contenido)"
      ],
      "metadata": {
        "id": "L1Pc16tKQXpC"
      },
      "execution_count": null,
      "outputs": []
    }
  ]
}