{
  "nbformat": 4,
  "nbformat_minor": 0,
  "metadata": {
    "colab": {
      "provenance": []
    },
    "kernelspec": {
      "name": "python3",
      "display_name": "Python 3"
    },
    "language_info": {
      "name": "python"
    }
  },
  "cells": [
    {
      "cell_type": "markdown",
      "source": [
        "Ejercicio 0:\n",
        "\n",
        "En el campus se encuentran dos archivos en la carpeta \"Ejemplos codificacion\". Investíguelos con las herramientas vistas en clase puede usar también la herramienta hewdump para verlos por dentro.\n",
        "\n",
        "Pruebe intencionalmente abrir el archivo con la codificación equivocada(abra el UTF-8 como 8859-15) y compare las salidas."
      ],
      "metadata": {
        "id": "ms-PWAx5U4T7"
      }
    },
    {
      "cell_type": "code",
      "source": [
        "#Abrir archivo con codificacion UTF-8:\n",
        "with open('/content/EJEMPLO DE UTF-8.txt', 'r', encoding='utf-8') as archivo:\n",
        "    contenido = archivo.read()\n",
        "\n",
        "print(contenido)\n",
        "\n",
        "#Abrir archivo con codificacion 8859-15:\n",
        "with open('/content/EJEMPLO DE 8859-15.txt', 'r', encoding='iso-8859-1') as archivo:\n",
        "    contenido = archivo.read()\n",
        "\n",
        "print(contenido)\n",
        "\n",
        "#Abrir archivo con codificacion equivocada:\n",
        "\"\"\"\n",
        "Salta un error\n",
        "\n",
        "with open('/content/EJEMPLO DE 8859-15.txt', 'r', encoding='utf-8') as archivo:\n",
        "    contenido = archivo.read()\n",
        "\n",
        "print(contenido)\n",
        "\"\"\""
      ],
      "metadata": {
        "id": "N5NxblcTVuzL"
      },
      "execution_count": null,
      "outputs": []
    },
    {
      "cell_type": "markdown",
      "source": [
        "Ejercicio 1:\n",
        "\n",
        "Con los archivos pedidios en diferentes formatos(pdf, jpg, entre otros) la clase anterior, extraiga la información que considere relevante de los mismos utilizando las librerías desarrolladas en clase:\n",
        "\n",
        "I- Obtenga el texto de un libro escaneado en pdf(un pdf que no contenga el texto codificado como tal, es decir, que sea necesario usar ocr). Pruebe usando pytesseract en ingles(por defecto) y luego configurandolo en español.\n",
        "\n",
        "II- Obtenga el texto de una imagen(png, bmp).\n",
        "\n",
        "III- Obtenga el texto de un archivo word.\n",
        "\n",
        "IV- Obtenga el texto de un archivo de audio.\n",
        "\n",
        "Si no tienes suficientes recursos considere usar las páginas archive.org, epdlp.com, ciudadseva.com para conseguir los archivos.\n",
        "\n",
        "Opcional: Para las imágenes de facturas y recibos, extraiga información de los mismos con el objetivo de identificar los movimientos de gasto para el/los periodo/s a que se correspondan, y genere una salida en pantalla con un resumen para el total de movimientos."
      ],
      "metadata": {
        "id": "zmmiXcvuX1fC"
      }
    },
    {
      "cell_type": "code",
      "source": [
        "#Librerias para transformar pdf en imagenes.\n",
        "!pip install pdf2image\n",
        "!apt-get install -y poppler-utils"
      ],
      "metadata": {
        "id": "xNuCtUPl5KFf"
      },
      "execution_count": null,
      "outputs": []
    },
    {
      "cell_type": "code",
      "source": [
        "#Libreria pytesseract:\n",
        "!apt install tesseract-ocr\n",
        "!pip install pytesseract"
      ],
      "metadata": {
        "id": "0GSUN9v_5twX"
      },
      "execution_count": null,
      "outputs": []
    },
    {
      "cell_type": "code",
      "source": [
        "#Ejercicio I:\n",
        "\n",
        "#Primero convierto algunas páginas del archivo pdf en imagenes.\n",
        "from pdf2image import convert_from_path\n",
        "\n",
        "imagenes = convert_from_path('/content/Métodos Estadísticos 1 - Ruggieri.pdf')\n",
        "\n",
        "for i, imagen in enumerate(imagenes):\n",
        "    imagen.save('pagina{}.png'.format(i), 'PNG')\n",
        "    if i == 2:\n",
        "        break"
      ],
      "metadata": {
        "id": "jtSfYYlmX1D7"
      },
      "execution_count": null,
      "outputs": []
    },
    {
      "cell_type": "code",
      "source": [
        "#Luego convierto la imagen en texto.\n",
        "import pytesseract\n",
        "from PIL import Image\n",
        "\n",
        "texto_ingles = \"\"\n",
        "texto_espanol = \"\"\n",
        "\n",
        "#Primero pruebo con pytessecart en ingles.\n",
        "for i in [0, 1, 2]:\n",
        "    imagen_path = '/content/pagina{}.png'.format(i)\n",
        "    imagen = Image.open(imagen_path)\n",
        "\n",
        "    texto_ingles += pytesseract.image_to_string(imagen, lang='eng')\n",
        "    texto_espanol += pytesseract.image_to_string(imagen, lang='eng+esp')\n",
        "\n",
        "print(\"Con pytesseract en ingles:\")\n",
        "print(texto_ingles)\n",
        "print(\"Con pytesseract en ingles+español:\")\n",
        "print(texto_espanol)"
      ],
      "metadata": {
        "id": "PLp2whnc7HTg"
      },
      "execution_count": null,
      "outputs": []
    },
    {
      "cell_type": "code",
      "source": [
        "#Ejercicio II:\n"
      ],
      "metadata": {
        "id": "JNRxdQq--rH9"
      },
      "execution_count": null,
      "outputs": []
    },
    {
      "cell_type": "code",
      "source": [
        "#Libreria para leer archivos Word .docx\n",
        "!pip install python-docx"
      ],
      "metadata": {
        "id": "lP3eJLPa584G"
      },
      "execution_count": null,
      "outputs": []
    },
    {
      "cell_type": "code",
      "source": [
        "#Ejercicio III:\n",
        "from docx import Document\n",
        "\n",
        "#Abro el archivo Word texto_p1.\n",
        "doc = Document('/content/texto_p1.docx')\n",
        "\n",
        "texto_docx = \"\"\n",
        "\n",
        "for parrafo in doc.paragraphs:\n",
        "    texto_docx += parrafo.text + \"\\n\"\n",
        "\n",
        "print(texto_docx)"
      ],
      "metadata": {
        "id": "THIFLCT14TtO"
      },
      "execution_count": null,
      "outputs": []
    },
    {
      "cell_type": "code",
      "source": [
        "#Ejercicio IV:\n"
      ],
      "metadata": {
        "id": "lh0SwrLJ7uhI"
      },
      "execution_count": null,
      "outputs": []
    },
    {
      "cell_type": "markdown",
      "source": [
        "Ejercicio 2:\n",
        "\n",
        "El Ministerio de Turismo y Deportes de la Nación permite explorar\n",
        "tableros de información en línea tableros.yvera.tur.ar. Explore la página y utilizando\n",
        "una librería de web scraping extraiga los valores del tablero de indicadores de\n",
        "Objetivos de Desarrollo Sostenible en una tabla y el texto limpio de la metodología\n",
        "de los mismos."
      ],
      "metadata": {
        "id": "jnWBb5HRsCFA"
      }
    },
    {
      "cell_type": "code",
      "source": [
        "#Instalación librerias:\n",
        "!pip install beautifulsoup4"
      ],
      "metadata": {
        "id": "SNN43GXmiqqE"
      },
      "execution_count": null,
      "outputs": []
    },
    {
      "cell_type": "code",
      "source": [
        "import requests\n",
        "from bs4 import BeautifulSoup\n",
        "\n",
        "url = \"https://tableros.yvera.tur.ar/tablero_ODS/\"\n",
        "\n",
        "response = requests.get(url, verify=False)\n",
        "soup = BeautifulSoup(response.text, 'html.parser')\n",
        "\n",
        "div_inner = soup.find_all('div', class_='inner')\n",
        "uls = soup.find_all('ul')\n",
        "\n",
        "contenido = []\n",
        "\n",
        "for div in div_inner:\n",
        "    parrafos = div.find_all('p')\n",
        "    for p in parrafos:\n",
        "        contenido.append(p.text)\n",
        "\n",
        "print(contenido)\n",
        "\n",
        "for ul in uls:\n",
        "    descripciones = ul.find_all('p')\n",
        "    for d in descripciones:\n",
        "        print(d.text)"
      ],
      "metadata": {
        "id": "w9ysRuNVi71n"
      },
      "execution_count": null,
      "outputs": []
    },
    {
      "cell_type": "markdown",
      "source": [
        "Ejercicio 3:\n",
        "\n",
        "Investigue cómo extraer información de vuelo en la página\n",
        "flybondi.com, haga un programa en python para verificar si bajó el precio de un\n",
        "vuelo determinado."
      ],
      "metadata": {
        "id": "ADqrui-rUO_S"
      }
    },
    {
      "cell_type": "code",
      "source": [],
      "metadata": {
        "id": "mhDYF0SWUU7I"
      },
      "execution_count": null,
      "outputs": []
    },
    {
      "cell_type": "markdown",
      "source": [
        "Ejercicio 4:\n",
        "\n",
        "Con el objetivo de estudiar la serie de tipo de cambio oficial y su\n",
        "volatilidad de forma visual. Utilice una librería de web scraping y elija una dirección\n",
        "que posea esta información en una frecuencia diaria y recolecte esa información\n",
        "(por ejemplo dolarhoy.com). Documente el proceso debidamente.\n",
        "\n",
        "Opcional: Una vez obtenidos los datos requeridos realice una gráfica que muestre la\n",
        "serie y calcule los valores promedio mensual de la serie. Su máximo valor y su\n",
        "mínimo. Presente los datos por pantalla en forma ordenada."
      ],
      "metadata": {
        "id": "3zBi1tU-UtwK"
      }
    },
    {
      "cell_type": "code",
      "source": [],
      "metadata": {
        "id": "MM54zKyhU1G5"
      },
      "execution_count": null,
      "outputs": []
    },
    {
      "cell_type": "markdown",
      "source": [
        "Ejercicio 5:\n",
        "\n",
        "Obtener los libros en formato pdf de la página del autor argentino\n",
        "Hernán Casciari de la editorial Orsai, estos textos son de libre utilización. Pasar a un\n",
        "archivo pkl el texto de los libros en pdf."
      ],
      "metadata": {
        "id": "lca9MmhsU6Zx"
      }
    },
    {
      "cell_type": "code",
      "source": [],
      "metadata": {
        "id": "a_oxvf6ZU8_R"
      },
      "execution_count": null,
      "outputs": []
    },
    {
      "cell_type": "markdown",
      "source": [
        "Ejercicio 6:\n",
        "\n",
        "Realizar en Colab un script Python que haga los siguientes pasos:\n",
        "\n",
        "i. Obtener el HTML de la página https://es.wikipedia.org/wiki/Argentina\n",
        "\n",
        "ii. Con BeautifulSoup, Obtener el texto contenido en el <div> cuyo id='mwcontent-text’\n",
        "\n",
        "iii. Aplicar RecursiveCharacterTextSplitter con los parámetros chunk_size = 300 en\n",
        "el texto de wikipedia.\n",
        "\n",
        "iv. Aplicar RecursiveCharacterTextSplitter con los parámetros chunk_size = 300,\n",
        "separators = [\"\\n\\n\", \"\\n\"] en el texto de wikipedia.\n",
        "\n",
        "v. Aplicar CharacterTextSplitter() en el texto de wikipedia.\n",
        "\n",
        "vi. En cada caso, graficar el histograma de como se distribuyen los tamaños de\n",
        "los segmentos (chunks) y sacar conclusiones.\n"
      ],
      "metadata": {
        "id": "TxlfalUKU9sR"
      }
    },
    {
      "cell_type": "code",
      "source": [],
      "metadata": {
        "id": "T9cntHceVGSR"
      },
      "execution_count": null,
      "outputs": []
    },
    {
      "cell_type": "markdown",
      "source": [
        "Ejercicio 7:\n",
        "\n",
        "En la siguiente carpeta,\n",
        "https://drive.google.com/drive/folders/1iCiOQ8P8CHFFLKiWc2li9-x3Ud-Tl0po?usp=drive_link\n",
        "podrá descargar recursos que presentan algunos desafios para la extracción de\n",
        "texto. Practique los códigos y librerías propuestos en la Unidad 1 y compare los\n",
        "resultados con sus compañer@s."
      ],
      "metadata": {
        "id": "9X7VAhDGznTn"
      }
    },
    {
      "cell_type": "markdown",
      "source": [
        "1 - Extracción del archivo: PROYECTO DE LEY TURISMO SOCIAL 2004.pdf"
      ],
      "metadata": {
        "id": "WuPTdwWGPE_e"
      }
    },
    {
      "cell_type": "code",
      "source": [
        "!pip install PyPDF2"
      ],
      "metadata": {
        "id": "qNEvfB-HNwou",
        "colab": {
          "base_uri": "https://localhost:8080/"
        },
        "outputId": "08455e65-7cf0-4e74-f393-16fee77931ff"
      },
      "execution_count": null,
      "outputs": [
        {
          "output_type": "stream",
          "name": "stdout",
          "text": [
            "Collecting PyPDF2\n",
            "  Downloading pypdf2-3.0.1-py3-none-any.whl.metadata (6.8 kB)\n",
            "Downloading pypdf2-3.0.1-py3-none-any.whl (232 kB)\n",
            "\u001b[?25l   \u001b[90m━━━━━━━━━━━━━━━━━━━━━━━━━━━━━━━━━━━━━━━━\u001b[0m \u001b[32m0.0/232.6 kB\u001b[0m \u001b[31m?\u001b[0m eta \u001b[36m-:--:--\u001b[0m\r\u001b[2K   \u001b[91m━━━━━━━━━━━━\u001b[0m\u001b[90m╺\u001b[0m\u001b[90m━━━━━━━━━━━━━━━━━━━━━━━━━━━\u001b[0m \u001b[32m71.7/232.6 kB\u001b[0m \u001b[31m2.2 MB/s\u001b[0m eta \u001b[36m0:00:01\u001b[0m\r\u001b[2K   \u001b[90m━━━━━━━━━━━━━━━━━━━━━━━━━━━━━━━━━━━━━━━━\u001b[0m \u001b[32m232.6/232.6 kB\u001b[0m \u001b[31m3.3 MB/s\u001b[0m eta \u001b[36m0:00:00\u001b[0m\n",
            "\u001b[?25hInstalling collected packages: PyPDF2\n",
            "Successfully installed PyPDF2-3.0.1\n"
          ]
        }
      ]
    },
    {
      "cell_type": "code",
      "source": [
        "import PyPDF2\n",
        "\n",
        "with open('/content/PROYECTO DE LEY TURISMO SOCIAL 2004.pdf', 'rb'):\n",
        "    lector = PyPDF2.PdfReader('PROYECTO DE LEY TURISMO SOCIAL 2004.pdf')\n",
        "\n",
        "texto = \"\"\n",
        "\n",
        "for i in range(len(lector.pages)):\n",
        "    pagina = lector.pages[i]\n",
        "\n",
        "    texto += pagina.extract_text()\n",
        "\n",
        "print(texto)"
      ],
      "metadata": {
        "id": "Jms7gSyB4LrI"
      },
      "execution_count": null,
      "outputs": []
    },
    {
      "cell_type": "markdown",
      "source": [
        "2 - Extraccion del archivo: covers.txt"
      ],
      "metadata": {
        "id": "_QYrr5OYPMB8"
      }
    },
    {
      "cell_type": "code",
      "source": [
        "with open('/content/covers.txt', 'r') as archivo:\n",
        "    contenido = archivo.read()\n",
        "\n",
        "print(contenido)"
      ],
      "metadata": {
        "id": "L1Pc16tKQXpC"
      },
      "execution_count": null,
      "outputs": []
    }
  ]
}